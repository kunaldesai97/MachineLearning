{
 "cells": [
  {
   "cell_type": "code",
   "execution_count": 7,
   "metadata": {
    "collapsed": false
   },
   "outputs": [],
   "source": [
    "import quandl\n",
    "import tensorflow as tf\n",
    "import numpy as np\n",
    "from sklearn import preprocessing\n",
    "import matplotlib.pyplot as plt\n",
    "rng=np.random\n",
    "\n",
    "df=quandl.get(\"FMAC/HPI_KOKIN\")\n",
    "df = df.reset_index()\n",
    "df['Date'] = (df['Date'] - df['Date'].min()) / np.timedelta64(1,'M')\n",
    "train_X = np.asarray(df['Date'])\n",
    "train_X=preprocessing.scale(train_X)\n",
    "train_Y = np.asarray(df['Value'])\n",
    "\n",
    "\n",
    "\n"
   ]
  },
  {
   "cell_type": "code",
   "execution_count": 8,
   "metadata": {
    "collapsed": true
   },
   "outputs": [],
   "source": [
    "# Parameters\n",
    "learning_rate = 0.01\n",
    "training_epochs = 1000\n",
    "display_step = 50\n",
    "n_samples = train_X.shape[0]"
   ]
  },
  {
   "cell_type": "code",
   "execution_count": 9,
   "metadata": {
    "collapsed": false
   },
   "outputs": [],
   "source": [
    "# tf Graph Input\n",
    "X = tf.placeholder(\"float\")\n",
    "Y = tf.placeholder(\"float\")\n",
    "\n",
    "# Set model weights\n",
    "W = tf.Variable(rng.randn(), name=\"weight\")\n",
    "b = tf.Variable(rng.randn(), name=\"bias\")"
   ]
  },
  {
   "cell_type": "code",
   "execution_count": 10,
   "metadata": {
    "collapsed": true
   },
   "outputs": [],
   "source": [
    "pred = tf.add(tf.multiply(X, W), b)"
   ]
  },
  {
   "cell_type": "code",
   "execution_count": 11,
   "metadata": {
    "collapsed": false
   },
   "outputs": [],
   "source": [
    "# Mean squared error\n",
    "cost = tf.reduce_sum(tf.pow(pred-Y, 2))/(2*n_samples)\n",
    "# Gradient descent\n",
    "optimizer = tf.train.GradientDescentOptimizer(learning_rate).minimize(cost)"
   ]
  },
  {
   "cell_type": "code",
   "execution_count": 12,
   "metadata": {
    "collapsed": true
   },
   "outputs": [],
   "source": [
    "init = tf.global_variables_initializer()\n"
   ]
  },
  {
   "cell_type": "code",
   "execution_count": 13,
   "metadata": {
    "collapsed": false
   },
   "outputs": [
    {
     "name": "stdout",
     "output_type": "stream",
     "text": [
      "Epoch: 0050 cost= 1167.546630859 W= 7.24148 b= 29.1764\n",
      "Epoch: 0100 cost= 464.472473145 W= 11.9127 b= 47.1345\n",
      "Epoch: 0150 cost= 205.793807983 W= 14.7522 b= 58.0246\n",
      "Epoch: 0200 cost= 110.607780457 W= 16.4783 b= 64.6286\n",
      "Epoch: 0250 cost= 75.574615479 W= 17.5275 b= 68.6334\n",
      "Epoch: 0300 cost= 62.675216675 W= 18.1653 b= 71.0625\n",
      "Epoch: 0350 cost= 57.924694061 W= 18.5529 b= 72.5353\n",
      "Epoch: 0400 cost= 56.173332214 W= 18.7886 b= 73.4284\n",
      "Epoch: 0450 cost= 55.526714325 W= 18.9316 b= 73.9702\n",
      "Epoch: 0500 cost= 55.287799835 W= 19.0187 b= 74.2981\n",
      "Epoch: 0550 cost= 55.198165894 W= 19.072 b= 74.4995\n",
      "Epoch: 0600 cost= 55.166160583 W= 19.104 b= 74.6153\n",
      "Epoch: 0650 cost= 55.153430939 W= 19.1238 b= 74.6883\n",
      "Epoch: 0700 cost= 55.148342133 W= 19.1355 b= 74.7348\n",
      "Epoch: 0750 cost= 55.146396637 W= 19.1427 b= 74.7623\n",
      "Epoch: 0800 cost= 55.145565033 W= 19.1473 b= 74.7806\n",
      "Epoch: 0850 cost= 55.145221710 W= 19.1499 b= 74.7924\n",
      "Epoch: 0900 cost= 55.145076752 W= 19.1518 b= 74.7997\n",
      "Epoch: 0950 cost= 55.145034790 W= 19.1523 b= 74.8034\n",
      "Epoch: 1000 cost= 55.145015717 W= 19.1526 b= 74.8058\n",
      "Optimization Finished!\n",
      "Training cost= 55.145 W= 19.1526 b= 74.8058 \n",
      "\n"
     ]
    },
    {
     "data": {
      "image/png": "[encoded data removed]",
      "text/plain": [
       "<matplotlib.figure.Figure at 0x12997fda6d8>"
      ]
     },
     "metadata": {},
     "output_type": "display_data"
    }
   ],
   "source": [
    "with tf.device('/gpu:0'):\n",
    "    with tf.Session() as sess:\n",
    "        sess.run(init)\n",
    "\n",
    "        # Fit all training data\n",
    "        for epoch in range(training_epochs):\n",
    "            for (x, y) in zip(train_X, train_Y):\n",
    "                sess.run(optimizer, feed_dict={X: x, Y: y})\n",
    "\n",
    "                #Display logs per epoch step\n",
    "            if (epoch+1) % display_step == 0:\n",
    "                c = sess.run(cost, feed_dict={X: train_X, Y:train_Y})\n",
    "                print(\"Epoch:\", '%04d' % (epoch+1), \"cost=\", \"{:.9f}\".format(c), \\\n",
    "                    \"W=\", sess.run(W), \"b=\", sess.run(b))\n",
    "\n",
    "        print(\"Optimization Finished!\")\n",
    "        training_cost = sess.run(cost, feed_dict={X: train_X, Y: train_Y})\n",
    "        print(\"Training cost=\", training_cost, \"W=\", sess.run(W), \"b=\", sess.run(b), '\\n')\n",
    "\n",
    "        #Graphic display\n",
    "        plt.plot(train_X, train_Y, 'ro', label='Original data')\n",
    "        plt.plot(train_X, sess.run(W) * train_X + sess.run(b), label='Fitted line')\n",
    "        plt.legend()\n",
    "        plt.show()\n",
    "    \n"
   ]
  }
 ],
 "metadata": {
  "kernelspec": {
   "display_name": "Python 3",
   "language": "python",
   "name": "python3"
  },
  "language_info": {
   "codemirror_mode": {
    "name": "ipython",
    "version": 3
   },
   "file_extension": ".py",
   "mimetype": "text/x-python",
   "name": "python",
   "nbconvert_exporter": "python",
   "pygments_lexer": "ipython3",
   "version": "3.5.2"
  }
 },
 "nbformat": 4,
 "nbformat_minor": 2
}
